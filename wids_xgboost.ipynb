{
 "cells": [
  {
   "cell_type": "code",
   "execution_count": 1,
   "metadata": {},
   "outputs": [],
   "source": [
    "#load libraries \n",
    "import pandas as pd\n",
    "import numpy as np\n",
    "import xgboost as xgb\n",
    "from sklearn.model_selection import GridSearchCV\n",
    "from sklearn.metrics import mean_squared_error, mean_absolute_error, r2_score\n",
    "from sklearn.model_selection import train_test_split"
   ]
  },
  {
   "cell_type": "code",
   "execution_count": 2,
   "metadata": {},
   "outputs": [],
   "source": [
    "train_df = pd.read_csv('/Users/shichen/Dropbox/UCSC Extension/Object-oriented design/widsdatathon2023/train_data.csv', parse_dates = ['startdate'])\n",
    "test_df = pd.read_csv('/Users/shichen/Dropbox/UCSC Extension/Object-oriented design/widsdatathon2023/train_data.csv', parse_dates = ['startdate'])"
   ]
  },
  {
   "cell_type": "code",
   "execution_count": 4,
   "metadata": {},
   "outputs": [
    {
     "name": "stdout",
     "output_type": "stream",
     "text": [
      "<class 'pandas.core.frame.DataFrame'>\n",
      "RangeIndex: 375734 entries, 0 to 375733\n",
      "Columns: 246 entries, index to wind-vwnd-925-2010-20\n",
      "dtypes: datetime64[ns](1), float64(240), int64(4), object(1)\n",
      "memory usage: 705.2+ MB\n"
     ]
    }
   ],
   "source": [
    "train_df.info()"
   ]
  },
  {
   "cell_type": "code",
   "execution_count": 3,
   "metadata": {},
   "outputs": [
    {
     "data": {
      "text/html": [
       "<div>\n",
       "<style scoped>\n",
       "    .dataframe tbody tr th:only-of-type {\n",
       "        vertical-align: middle;\n",
       "    }\n",
       "\n",
       "    .dataframe tbody tr th {\n",
       "        vertical-align: top;\n",
       "    }\n",
       "\n",
       "    .dataframe thead th {\n",
       "        text-align: right;\n",
       "    }\n",
       "</style>\n",
       "<table border=\"1\" class=\"dataframe\">\n",
       "  <thead>\n",
       "    <tr style=\"text-align: right;\">\n",
       "      <th></th>\n",
       "      <th>index</th>\n",
       "      <th>lat</th>\n",
       "      <th>lon</th>\n",
       "      <th>startdate</th>\n",
       "      <th>contest-pevpr-sfc-gauss-14d__pevpr</th>\n",
       "      <th>nmme0-tmp2m-34w__cancm30</th>\n",
       "      <th>nmme0-tmp2m-34w__cancm40</th>\n",
       "      <th>nmme0-tmp2m-34w__ccsm30</th>\n",
       "      <th>nmme0-tmp2m-34w__ccsm40</th>\n",
       "      <th>nmme0-tmp2m-34w__cfsv20</th>\n",
       "      <th>...</th>\n",
       "      <th>wind-vwnd-925-2010-11</th>\n",
       "      <th>wind-vwnd-925-2010-12</th>\n",
       "      <th>wind-vwnd-925-2010-13</th>\n",
       "      <th>wind-vwnd-925-2010-14</th>\n",
       "      <th>wind-vwnd-925-2010-15</th>\n",
       "      <th>wind-vwnd-925-2010-16</th>\n",
       "      <th>wind-vwnd-925-2010-17</th>\n",
       "      <th>wind-vwnd-925-2010-18</th>\n",
       "      <th>wind-vwnd-925-2010-19</th>\n",
       "      <th>wind-vwnd-925-2010-20</th>\n",
       "    </tr>\n",
       "  </thead>\n",
       "  <tbody>\n",
       "    <tr>\n",
       "      <th>0</th>\n",
       "      <td>0</td>\n",
       "      <td>0.0</td>\n",
       "      <td>0.833333</td>\n",
       "      <td>2014-09-01</td>\n",
       "      <td>237.00</td>\n",
       "      <td>29.02</td>\n",
       "      <td>31.64</td>\n",
       "      <td>29.57</td>\n",
       "      <td>30.73</td>\n",
       "      <td>29.71</td>\n",
       "      <td>...</td>\n",
       "      <td>-27.68</td>\n",
       "      <td>-37.21</td>\n",
       "      <td>8.32</td>\n",
       "      <td>9.56</td>\n",
       "      <td>-2.03</td>\n",
       "      <td>48.13</td>\n",
       "      <td>28.09</td>\n",
       "      <td>-13.50</td>\n",
       "      <td>11.90</td>\n",
       "      <td>4.58</td>\n",
       "    </tr>\n",
       "    <tr>\n",
       "      <th>1</th>\n",
       "      <td>1</td>\n",
       "      <td>0.0</td>\n",
       "      <td>0.833333</td>\n",
       "      <td>2014-09-02</td>\n",
       "      <td>228.90</td>\n",
       "      <td>29.02</td>\n",
       "      <td>31.64</td>\n",
       "      <td>29.57</td>\n",
       "      <td>30.73</td>\n",
       "      <td>29.71</td>\n",
       "      <td>...</td>\n",
       "      <td>-21.13</td>\n",
       "      <td>-36.57</td>\n",
       "      <td>8.77</td>\n",
       "      <td>21.17</td>\n",
       "      <td>4.44</td>\n",
       "      <td>48.60</td>\n",
       "      <td>27.41</td>\n",
       "      <td>-23.77</td>\n",
       "      <td>15.44</td>\n",
       "      <td>3.42</td>\n",
       "    </tr>\n",
       "    <tr>\n",
       "      <th>2</th>\n",
       "      <td>2</td>\n",
       "      <td>0.0</td>\n",
       "      <td>0.833333</td>\n",
       "      <td>2014-09-03</td>\n",
       "      <td>220.69</td>\n",
       "      <td>29.02</td>\n",
       "      <td>31.64</td>\n",
       "      <td>29.57</td>\n",
       "      <td>30.73</td>\n",
       "      <td>29.71</td>\n",
       "      <td>...</td>\n",
       "      <td>-10.72</td>\n",
       "      <td>-34.16</td>\n",
       "      <td>6.99</td>\n",
       "      <td>32.16</td>\n",
       "      <td>5.01</td>\n",
       "      <td>48.53</td>\n",
       "      <td>19.21</td>\n",
       "      <td>-33.16</td>\n",
       "      <td>15.11</td>\n",
       "      <td>4.82</td>\n",
       "    </tr>\n",
       "    <tr>\n",
       "      <th>3</th>\n",
       "      <td>3</td>\n",
       "      <td>0.0</td>\n",
       "      <td>0.833333</td>\n",
       "      <td>2014-09-04</td>\n",
       "      <td>225.28</td>\n",
       "      <td>29.02</td>\n",
       "      <td>31.64</td>\n",
       "      <td>29.57</td>\n",
       "      <td>30.73</td>\n",
       "      <td>29.71</td>\n",
       "      <td>...</td>\n",
       "      <td>0.33</td>\n",
       "      <td>-31.04</td>\n",
       "      <td>6.17</td>\n",
       "      <td>39.66</td>\n",
       "      <td>-1.41</td>\n",
       "      <td>50.59</td>\n",
       "      <td>8.29</td>\n",
       "      <td>-37.22</td>\n",
       "      <td>18.24</td>\n",
       "      <td>9.74</td>\n",
       "    </tr>\n",
       "    <tr>\n",
       "      <th>4</th>\n",
       "      <td>4</td>\n",
       "      <td>0.0</td>\n",
       "      <td>0.833333</td>\n",
       "      <td>2014-09-05</td>\n",
       "      <td>237.24</td>\n",
       "      <td>29.02</td>\n",
       "      <td>31.64</td>\n",
       "      <td>29.57</td>\n",
       "      <td>30.73</td>\n",
       "      <td>29.71</td>\n",
       "      <td>...</td>\n",
       "      <td>9.83</td>\n",
       "      <td>-31.80</td>\n",
       "      <td>7.47</td>\n",
       "      <td>38.62</td>\n",
       "      <td>-5.21</td>\n",
       "      <td>54.73</td>\n",
       "      <td>-2.58</td>\n",
       "      <td>-42.30</td>\n",
       "      <td>21.91</td>\n",
       "      <td>10.95</td>\n",
       "    </tr>\n",
       "  </tbody>\n",
       "</table>\n",
       "<p>5 rows × 246 columns</p>\n",
       "</div>"
      ],
      "text/plain": [
       "   index  lat       lon  startdate  contest-pevpr-sfc-gauss-14d__pevpr  \\\n",
       "0      0  0.0  0.833333 2014-09-01                              237.00   \n",
       "1      1  0.0  0.833333 2014-09-02                              228.90   \n",
       "2      2  0.0  0.833333 2014-09-03                              220.69   \n",
       "3      3  0.0  0.833333 2014-09-04                              225.28   \n",
       "4      4  0.0  0.833333 2014-09-05                              237.24   \n",
       "\n",
       "   nmme0-tmp2m-34w__cancm30  nmme0-tmp2m-34w__cancm40  \\\n",
       "0                     29.02                     31.64   \n",
       "1                     29.02                     31.64   \n",
       "2                     29.02                     31.64   \n",
       "3                     29.02                     31.64   \n",
       "4                     29.02                     31.64   \n",
       "\n",
       "   nmme0-tmp2m-34w__ccsm30  nmme0-tmp2m-34w__ccsm40  nmme0-tmp2m-34w__cfsv20  \\\n",
       "0                    29.57                    30.73                    29.71   \n",
       "1                    29.57                    30.73                    29.71   \n",
       "2                    29.57                    30.73                    29.71   \n",
       "3                    29.57                    30.73                    29.71   \n",
       "4                    29.57                    30.73                    29.71   \n",
       "\n",
       "   ...  wind-vwnd-925-2010-11  wind-vwnd-925-2010-12  wind-vwnd-925-2010-13  \\\n",
       "0  ...                 -27.68                 -37.21                   8.32   \n",
       "1  ...                 -21.13                 -36.57                   8.77   \n",
       "2  ...                 -10.72                 -34.16                   6.99   \n",
       "3  ...                   0.33                 -31.04                   6.17   \n",
       "4  ...                   9.83                 -31.80                   7.47   \n",
       "\n",
       "   wind-vwnd-925-2010-14  wind-vwnd-925-2010-15  wind-vwnd-925-2010-16  \\\n",
       "0                   9.56                  -2.03                  48.13   \n",
       "1                  21.17                   4.44                  48.60   \n",
       "2                  32.16                   5.01                  48.53   \n",
       "3                  39.66                  -1.41                  50.59   \n",
       "4                  38.62                  -5.21                  54.73   \n",
       "\n",
       "   wind-vwnd-925-2010-17  wind-vwnd-925-2010-18  wind-vwnd-925-2010-19  \\\n",
       "0                  28.09                 -13.50                  11.90   \n",
       "1                  27.41                 -23.77                  15.44   \n",
       "2                  19.21                 -33.16                  15.11   \n",
       "3                   8.29                 -37.22                  18.24   \n",
       "4                  -2.58                 -42.30                  21.91   \n",
       "\n",
       "   wind-vwnd-925-2010-20  \n",
       "0                   4.58  \n",
       "1                   3.42  \n",
       "2                   4.82  \n",
       "3                   9.74  \n",
       "4                  10.95  \n",
       "\n",
       "[5 rows x 246 columns]"
      ]
     },
     "execution_count": 3,
     "metadata": {},
     "output_type": "execute_result"
    }
   ],
   "source": [
    "train_df.head()"
   ]
  },
  {
   "cell_type": "code",
   "execution_count": 5,
   "metadata": {},
   "outputs": [
    {
     "data": {
      "text/plain": [
       "index                                          int64\n",
       "lat                                          float64\n",
       "lon                                          float64\n",
       "startdate                             datetime64[ns]\n",
       "contest-pevpr-sfc-gauss-14d__pevpr           float64\n",
       "                                           ...      \n",
       "wind-vwnd-925-2010-16                        float64\n",
       "wind-vwnd-925-2010-17                        float64\n",
       "wind-vwnd-925-2010-18                        float64\n",
       "wind-vwnd-925-2010-19                        float64\n",
       "wind-vwnd-925-2010-20                        float64\n",
       "Length: 246, dtype: object"
      ]
     },
     "execution_count": 5,
     "metadata": {},
     "output_type": "execute_result"
    }
   ],
   "source": [
    "# check the data type of each column\n",
    "train_df.dtypes"
   ]
  },
  {
   "cell_type": "code",
   "execution_count": 9,
   "metadata": {},
   "outputs": [
    {
     "data": {
      "text/plain": [
       "count    375734.000000\n",
       "mean         14.298038\n",
       "std           8.142212\n",
       "min           2.700000\n",
       "25%           8.350000\n",
       "50%          12.050000\n",
       "75%          17.820000\n",
       "max          52.660000\n",
       "Name: contest-prwtr-eatm-14d__prwtr, dtype: float64"
      ]
     },
     "execution_count": 9,
     "metadata": {},
     "output_type": "execute_result"
    }
   ],
   "source": [
    "train_df['contest-prwtr-eatm-14d__prwtr'].describe()"
   ]
  },
  {
   "cell_type": "code",
   "execution_count": 7,
   "metadata": {},
   "outputs": [],
   "source": [
    "# Dropping index column and filling missing values in the training dataset using bfill method\n",
    "# There are no missing values in test dataset\n",
    "train_df.drop('index',axis=1,inplace=True)\n",
    "test_df.drop('index',axis=1,inplace=True)\n",
    "train_df.fillna(inplace=True, method='bfill')"
   ]
  },
  {
   "cell_type": "code",
   "execution_count": 8,
   "metadata": {},
   "outputs": [],
   "source": [
    "# Creating new columns from the date column\n",
    "train_df[\"day\"] = train_df[\"startdate\"].dt.day\n",
    "train_df[\"month\"] = train_df[\"startdate\"].dt.month\n",
    "test_df[\"day\"] = test_df[\"startdate\"].dt.day\n",
    "test_df[\"month\"] = test_df[\"startdate\"].dt.month"
   ]
  },
  {
   "cell_type": "code",
   "execution_count": 9,
   "metadata": {},
   "outputs": [],
   "source": [
    "# Dealing with location column and make new columns from it using One-Hot-Encoding.\n",
    "# [Reference](https://www.kaggle.com/code/flaviafelicioni/wids-2023-different-locations-train-test-solved)\n",
    "\n",
    "scale = 14\n",
    "train_df.loc[:,'lat']=round(train_df.lat,scale)\n",
    "train_df.loc[:,'lon']=round(train_df.lon,scale)\n",
    "\n",
    "test_df.loc[:,'lat']=round(test_df.lat,scale)\n",
    "test_df.loc[:,'lon']=round(test_df.lon,scale)\n",
    "\n",
    "train_df['location'] = train_df.lat.astype(str) + ' , ' + train_df.lon.astype(str)\n",
    "test_df['location'] = test_df.lat.astype(str) + ' , ' + test_df.lon.astype(str)\n",
    "\n",
    "dummies = pd.get_dummies(train_df.location)\n",
    "train_df = pd.concat([dummies, train_df], axis = 1)\n",
    "dummies = pd.get_dummies(test_df.location)\n",
    "test_df = pd.concat([dummies, test_df], axis = 1)"
   ]
  },
  {
   "cell_type": "code",
   "execution_count": 10,
   "metadata": {},
   "outputs": [],
   "source": [
    "# Using lag features on elevation__elevation column\n",
    "for i in range(1, 4):\n",
    "    train_df['lag{}'.format(i)] = train_df['elevation__elevation'].shift(i)\n",
    "    test_df['lag{}'.format(i)] = test_df['elevation__elevation'].shift(i)"
   ]
  },
  {
   "cell_type": "code",
   "execution_count": 11,
   "metadata": {},
   "outputs": [],
   "source": [
    "# Dropping non-numeric columns after transfering them\n",
    "target = 'contest-tmp2m-14d__tmp2m'\n",
    "\n",
    "X_train = train_df.copy()\n",
    "X_train.drop(['climateregions__climateregion', 'startdate', 'lat', 'lon', 'location'], axis=1, inplace=True)\n",
    "\n",
    "y_train = X_train[target]\n",
    "\n",
    "X_train.drop([target], axis=1, inplace=True)\n",
    "\n",
    "X_test = test_df.copy()\n",
    "X_test.drop(['climateregions__climateregion', 'startdate', 'lat', 'lon', 'location'], axis=1, inplace=True)\n"
   ]
  },
  {
   "cell_type": "code",
   "execution_count": 12,
   "metadata": {},
   "outputs": [
    {
     "data": {
      "text/html": [
       "<style>#sk-container-id-1 {color: black;background-color: white;}#sk-container-id-1 pre{padding: 0;}#sk-container-id-1 div.sk-toggleable {background-color: white;}#sk-container-id-1 label.sk-toggleable__label {cursor: pointer;display: block;width: 100%;margin-bottom: 0;padding: 0.3em;box-sizing: border-box;text-align: center;}#sk-container-id-1 label.sk-toggleable__label-arrow:before {content: \"▸\";float: left;margin-right: 0.25em;color: #696969;}#sk-container-id-1 label.sk-toggleable__label-arrow:hover:before {color: black;}#sk-container-id-1 div.sk-estimator:hover label.sk-toggleable__label-arrow:before {color: black;}#sk-container-id-1 div.sk-toggleable__content {max-height: 0;max-width: 0;overflow: hidden;text-align: left;background-color: #f0f8ff;}#sk-container-id-1 div.sk-toggleable__content pre {margin: 0.2em;color: black;border-radius: 0.25em;background-color: #f0f8ff;}#sk-container-id-1 input.sk-toggleable__control:checked~div.sk-toggleable__content {max-height: 200px;max-width: 100%;overflow: auto;}#sk-container-id-1 input.sk-toggleable__control:checked~label.sk-toggleable__label-arrow:before {content: \"▾\";}#sk-container-id-1 div.sk-estimator input.sk-toggleable__control:checked~label.sk-toggleable__label {background-color: #d4ebff;}#sk-container-id-1 div.sk-label input.sk-toggleable__control:checked~label.sk-toggleable__label {background-color: #d4ebff;}#sk-container-id-1 input.sk-hidden--visually {border: 0;clip: rect(1px 1px 1px 1px);clip: rect(1px, 1px, 1px, 1px);height: 1px;margin: -1px;overflow: hidden;padding: 0;position: absolute;width: 1px;}#sk-container-id-1 div.sk-estimator {font-family: monospace;background-color: #f0f8ff;border: 1px dotted black;border-radius: 0.25em;box-sizing: border-box;margin-bottom: 0.5em;}#sk-container-id-1 div.sk-estimator:hover {background-color: #d4ebff;}#sk-container-id-1 div.sk-parallel-item::after {content: \"\";width: 100%;border-bottom: 1px solid gray;flex-grow: 1;}#sk-container-id-1 div.sk-label:hover label.sk-toggleable__label {background-color: #d4ebff;}#sk-container-id-1 div.sk-serial::before {content: \"\";position: absolute;border-left: 1px solid gray;box-sizing: border-box;top: 0;bottom: 0;left: 50%;z-index: 0;}#sk-container-id-1 div.sk-serial {display: flex;flex-direction: column;align-items: center;background-color: white;padding-right: 0.2em;padding-left: 0.2em;position: relative;}#sk-container-id-1 div.sk-item {position: relative;z-index: 1;}#sk-container-id-1 div.sk-parallel {display: flex;align-items: stretch;justify-content: center;background-color: white;position: relative;}#sk-container-id-1 div.sk-item::before, #sk-container-id-1 div.sk-parallel-item::before {content: \"\";position: absolute;border-left: 1px solid gray;box-sizing: border-box;top: 0;bottom: 0;left: 50%;z-index: -1;}#sk-container-id-1 div.sk-parallel-item {display: flex;flex-direction: column;z-index: 1;position: relative;background-color: white;}#sk-container-id-1 div.sk-parallel-item:first-child::after {align-self: flex-end;width: 50%;}#sk-container-id-1 div.sk-parallel-item:last-child::after {align-self: flex-start;width: 50%;}#sk-container-id-1 div.sk-parallel-item:only-child::after {width: 0;}#sk-container-id-1 div.sk-dashed-wrapped {border: 1px dashed gray;margin: 0 0.4em 0.5em 0.4em;box-sizing: border-box;padding-bottom: 0.4em;background-color: white;}#sk-container-id-1 div.sk-label label {font-family: monospace;font-weight: bold;display: inline-block;line-height: 1.2em;}#sk-container-id-1 div.sk-label-container {text-align: center;}#sk-container-id-1 div.sk-container {/* jupyter's `normalize.less` sets `[hidden] { display: none; }` but bootstrap.min.css set `[hidden] { display: none !important; }` so we also need the `!important` here to be able to override the default hidden behavior on the sphinx rendered scikit-learn.org. See: https://github.com/scikit-learn/scikit-learn/issues/21755 */display: inline-block !important;position: relative;}#sk-container-id-1 div.sk-text-repr-fallback {display: none;}</style><div id=\"sk-container-id-1\" class=\"sk-top-container\"><div class=\"sk-text-repr-fallback\"><pre>XGBRegressor(base_score=0.5, booster=&#x27;gbtree&#x27;, colsample_bylevel=1,\n",
       "             colsample_bynode=1, colsample_bytree=1, enable_categorical=False,\n",
       "             gamma=0, gpu_id=-1, importance_type=None,\n",
       "             interaction_constraints=&#x27;&#x27;, learning_rate=0.1, max_delta_step=0,\n",
       "             max_depth=3, min_child_weight=1, missing=nan,\n",
       "             monotone_constraints=&#x27;()&#x27;, n_estimators=100, n_jobs=8,\n",
       "             num_parallel_tree=1, predictor=&#x27;auto&#x27;, random_state=42,\n",
       "             reg_alpha=0, reg_lambda=1, scale_pos_weight=1, subsample=1,\n",
       "             tree_method=&#x27;exact&#x27;, validate_parameters=1, verbosity=None)</pre><b>In a Jupyter environment, please rerun this cell to show the HTML representation or trust the notebook. <br />On GitHub, the HTML representation is unable to render, please try loading this page with nbviewer.org.</b></div><div class=\"sk-container\" hidden><div class=\"sk-item\"><div class=\"sk-estimator sk-toggleable\"><input class=\"sk-toggleable__control sk-hidden--visually\" id=\"sk-estimator-id-1\" type=\"checkbox\" checked><label for=\"sk-estimator-id-1\" class=\"sk-toggleable__label sk-toggleable__label-arrow\">XGBRegressor</label><div class=\"sk-toggleable__content\"><pre>XGBRegressor(base_score=0.5, booster=&#x27;gbtree&#x27;, colsample_bylevel=1,\n",
       "             colsample_bynode=1, colsample_bytree=1, enable_categorical=False,\n",
       "             gamma=0, gpu_id=-1, importance_type=None,\n",
       "             interaction_constraints=&#x27;&#x27;, learning_rate=0.1, max_delta_step=0,\n",
       "             max_depth=3, min_child_weight=1, missing=nan,\n",
       "             monotone_constraints=&#x27;()&#x27;, n_estimators=100, n_jobs=8,\n",
       "             num_parallel_tree=1, predictor=&#x27;auto&#x27;, random_state=42,\n",
       "             reg_alpha=0, reg_lambda=1, scale_pos_weight=1, subsample=1,\n",
       "             tree_method=&#x27;exact&#x27;, validate_parameters=1, verbosity=None)</pre></div></div></div></div></div>"
      ],
      "text/plain": [
       "XGBRegressor(base_score=0.5, booster='gbtree', colsample_bylevel=1,\n",
       "             colsample_bynode=1, colsample_bytree=1, enable_categorical=False,\n",
       "             gamma=0, gpu_id=-1, importance_type=None,\n",
       "             interaction_constraints='', learning_rate=0.1, max_delta_step=0,\n",
       "             max_depth=3, min_child_weight=1, missing=nan,\n",
       "             monotone_constraints='()', n_estimators=100, n_jobs=8,\n",
       "             num_parallel_tree=1, predictor='auto', random_state=42,\n",
       "             reg_alpha=0, reg_lambda=1, scale_pos_weight=1, subsample=1,\n",
       "             tree_method='exact', validate_parameters=1, verbosity=None)"
      ]
     },
     "execution_count": 12,
     "metadata": {},
     "output_type": "execute_result"
    }
   ],
   "source": [
    "model = xgb.XGBRegressor(objective='reg:squarederror', n_estimators=100, learning_rate=0.1, max_depth=3, random_state=42)\n",
    "model.fit(X_train, y_train)"
   ]
  },
  {
   "cell_type": "code",
   "execution_count": 13,
   "metadata": {},
   "outputs": [],
   "source": [
    "y_pred = model.predict(X_train)"
   ]
  },
  {
   "cell_type": "code",
   "execution_count": 14,
   "metadata": {},
   "outputs": [
    {
     "name": "stdout",
     "output_type": "stream",
     "text": [
      "Mean Squared Error: 2.1686\n",
      "R2 Score: 0.9777\n"
     ]
    }
   ],
   "source": [
    "mse = mean_squared_error(y_train, y_pred)\n",
    "r2 = r2_score(y_train, y_pred)\n",
    "print(f\"Mean Squared Error: {mse:.4f}\")\n",
    "print(f\"R2 Score: {r2:.4f}\")\n"
   ]
  },
  {
   "cell_type": "code",
   "execution_count": 17,
   "metadata": {},
   "outputs": [],
   "source": [
    "from xgboost import plot_importance"
   ]
  },
  {
   "cell_type": "code",
   "execution_count": 18,
   "metadata": {},
   "outputs": [
    {
     "data": {
      "image/png": "[encoded data removed]",
      "text/plain": [
       "<Figure size 432x288 with 1 Axes>"
      ]
     },
     "metadata": {
      "needs_background": "light"
     },
     "output_type": "display_data"
    }
   ],
   "source": [
    "# Plot the feature importance with the top 10 features\n",
    "ax = plot_importance(model, max_num_features=10, importance_type='weight')\n",
    "plt.show()"
   ]
  },
  {
   "cell_type": "code",
   "execution_count": 19,
   "metadata": {},
   "outputs": [
    {
     "data": {
      "text/plain": [
       "count    375734.000000\n",
       "mean       5728.370672\n",
       "std         123.805703\n",
       "min        5289.250000\n",
       "25%        5644.070000\n",
       "50%        5732.220000\n",
       "75%        5827.680000\n",
       "max        5958.200000\n",
       "Name: contest-wind-h500-14d__wind-hgt-500, dtype: float64"
      ]
     },
     "execution_count": 19,
     "metadata": {},
     "output_type": "execute_result"
    }
   ],
   "source": [
    "# check the descriptive statistics of contest-wind-h500-14d__wind-hgt-500\n",
    "train_df['contest-wind-h500-14d__wind-hgt-500'].describe()"
   ]
  },
  {
   "cell_type": "code",
   "execution_count": null,
   "metadata": {},
   "outputs": [
    {
     "data": {
      "text/html": [
       "<div>\n",
       "<style scoped>\n",
       "    .dataframe tbody tr th:only-of-type {\n",
       "        vertical-align: middle;\n",
       "    }\n",
       "\n",
       "    .dataframe tbody tr th {\n",
       "        vertical-align: top;\n",
       "    }\n",
       "\n",
       "    .dataframe thead th {\n",
       "        text-align: right;\n",
       "    }\n",
       "</style>\n",
       "<table border=\"1\" class=\"dataframe\">\n",
       "  <thead>\n",
       "    <tr style=\"text-align: right;\">\n",
       "      <th></th>\n",
       "      <th>index</th>\n",
       "      <th>lat</th>\n",
       "      <th>lon</th>\n",
       "      <th>startdate</th>\n",
       "      <th>contest-pevpr-sfc-gauss-14d__pevpr</th>\n",
       "      <th>nmme0-tmp2m-34w__cancm30</th>\n",
       "      <th>nmme0-tmp2m-34w__cancm40</th>\n",
       "      <th>nmme0-tmp2m-34w__ccsm30</th>\n",
       "      <th>nmme0-tmp2m-34w__ccsm40</th>\n",
       "      <th>nmme0-tmp2m-34w__cfsv20</th>\n",
       "      <th>...</th>\n",
       "      <th>wind-vwnd-925-2010-11</th>\n",
       "      <th>wind-vwnd-925-2010-12</th>\n",
       "      <th>wind-vwnd-925-2010-13</th>\n",
       "      <th>wind-vwnd-925-2010-14</th>\n",
       "      <th>wind-vwnd-925-2010-15</th>\n",
       "      <th>wind-vwnd-925-2010-16</th>\n",
       "      <th>wind-vwnd-925-2010-17</th>\n",
       "      <th>wind-vwnd-925-2010-18</th>\n",
       "      <th>wind-vwnd-925-2010-19</th>\n",
       "      <th>wind-vwnd-925-2010-20</th>\n",
       "    </tr>\n",
       "  </thead>\n",
       "  <tbody>\n",
       "    <tr>\n",
       "      <th>0</th>\n",
       "      <td>0</td>\n",
       "      <td>0.0</td>\n",
       "      <td>0.833333</td>\n",
       "      <td>2014-09-01</td>\n",
       "      <td>237.00</td>\n",
       "      <td>29.02</td>\n",
       "      <td>31.64</td>\n",
       "      <td>29.57</td>\n",
       "      <td>30.73</td>\n",
       "      <td>29.71</td>\n",
       "      <td>...</td>\n",
       "      <td>-27.68</td>\n",
       "      <td>-37.21</td>\n",
       "      <td>8.32</td>\n",
       "      <td>9.56</td>\n",
       "      <td>-2.03</td>\n",
       "      <td>48.13</td>\n",
       "      <td>28.09</td>\n",
       "      <td>-13.50</td>\n",
       "      <td>11.90</td>\n",
       "      <td>4.58</td>\n",
       "    </tr>\n",
       "    <tr>\n",
       "      <th>1</th>\n",
       "      <td>1</td>\n",
       "      <td>0.0</td>\n",
       "      <td>0.833333</td>\n",
       "      <td>2014-09-02</td>\n",
       "      <td>228.90</td>\n",
       "      <td>29.02</td>\n",
       "      <td>31.64</td>\n",
       "      <td>29.57</td>\n",
       "      <td>30.73</td>\n",
       "      <td>29.71</td>\n",
       "      <td>...</td>\n",
       "      <td>-21.13</td>\n",
       "      <td>-36.57</td>\n",
       "      <td>8.77</td>\n",
       "      <td>21.17</td>\n",
       "      <td>4.44</td>\n",
       "      <td>48.60</td>\n",
       "      <td>27.41</td>\n",
       "      <td>-23.77</td>\n",
       "      <td>15.44</td>\n",
       "      <td>3.42</td>\n",
       "    </tr>\n",
       "    <tr>\n",
       "      <th>2</th>\n",
       "      <td>2</td>\n",
       "      <td>0.0</td>\n",
       "      <td>0.833333</td>\n",
       "      <td>2014-09-03</td>\n",
       "      <td>220.69</td>\n",
       "      <td>29.02</td>\n",
       "      <td>31.64</td>\n",
       "      <td>29.57</td>\n",
       "      <td>30.73</td>\n",
       "      <td>29.71</td>\n",
       "      <td>...</td>\n",
       "      <td>-10.72</td>\n",
       "      <td>-34.16</td>\n",
       "      <td>6.99</td>\n",
       "      <td>32.16</td>\n",
       "      <td>5.01</td>\n",
       "      <td>48.53</td>\n",
       "      <td>19.21</td>\n",
       "      <td>-33.16</td>\n",
       "      <td>15.11</td>\n",
       "      <td>4.82</td>\n",
       "    </tr>\n",
       "    <tr>\n",
       "      <th>3</th>\n",
       "      <td>3</td>\n",
       "      <td>0.0</td>\n",
       "      <td>0.833333</td>\n",
       "      <td>2014-09-04</td>\n",
       "      <td>225.28</td>\n",
       "      <td>29.02</td>\n",
       "      <td>31.64</td>\n",
       "      <td>29.57</td>\n",
       "      <td>30.73</td>\n",
       "      <td>29.71</td>\n",
       "      <td>...</td>\n",
       "      <td>0.33</td>\n",
       "      <td>-31.04</td>\n",
       "      <td>6.17</td>\n",
       "      <td>39.66</td>\n",
       "      <td>-1.41</td>\n",
       "      <td>50.59</td>\n",
       "      <td>8.29</td>\n",
       "      <td>-37.22</td>\n",
       "      <td>18.24</td>\n",
       "      <td>9.74</td>\n",
       "    </tr>\n",
       "    <tr>\n",
       "      <th>4</th>\n",
       "      <td>4</td>\n",
       "      <td>0.0</td>\n",
       "      <td>0.833333</td>\n",
       "      <td>2014-09-05</td>\n",
       "      <td>237.24</td>\n",
       "      <td>29.02</td>\n",
       "      <td>31.64</td>\n",
       "      <td>29.57</td>\n",
       "      <td>30.73</td>\n",
       "      <td>29.71</td>\n",
       "      <td>...</td>\n",
       "      <td>9.83</td>\n",
       "      <td>-31.80</td>\n",
       "      <td>7.47</td>\n",
       "      <td>38.62</td>\n",
       "      <td>-5.21</td>\n",
       "      <td>54.73</td>\n",
       "      <td>-2.58</td>\n",
       "      <td>-42.30</td>\n",
       "      <td>21.91</td>\n",
       "      <td>10.95</td>\n",
       "    </tr>\n",
       "  </tbody>\n",
       "</table>\n",
       "<p>5 rows × 246 columns</p>\n",
       "</div>"
      ],
      "text/plain": [
       "   index  lat       lon  startdate  contest-pevpr-sfc-gauss-14d__pevpr  \\\n",
       "0      0  0.0  0.833333 2014-09-01                              237.00   \n",
       "1      1  0.0  0.833333 2014-09-02                              228.90   \n",
       "2      2  0.0  0.833333 2014-09-03                              220.69   \n",
       "3      3  0.0  0.833333 2014-09-04                              225.28   \n",
       "4      4  0.0  0.833333 2014-09-05                              237.24   \n",
       "\n",
       "   nmme0-tmp2m-34w__cancm30  nmme0-tmp2m-34w__cancm40  \\\n",
       "0                     29.02                     31.64   \n",
       "1                     29.02                     31.64   \n",
       "2                     29.02                     31.64   \n",
       "3                     29.02                     31.64   \n",
       "4                     29.02                     31.64   \n",
       "\n",
       "   nmme0-tmp2m-34w__ccsm30  nmme0-tmp2m-34w__ccsm40  nmme0-tmp2m-34w__cfsv20  \\\n",
       "0                    29.57                    30.73                    29.71   \n",
       "1                    29.57                    30.73                    29.71   \n",
       "2                    29.57                    30.73                    29.71   \n",
       "3                    29.57                    30.73                    29.71   \n",
       "4                    29.57                    30.73                    29.71   \n",
       "\n",
       "   ...  wind-vwnd-925-2010-11  wind-vwnd-925-2010-12  wind-vwnd-925-2010-13  \\\n",
       "0  ...                 -27.68                 -37.21                   8.32   \n",
       "1  ...                 -21.13                 -36.57                   8.77   \n",
       "2  ...                 -10.72                 -34.16                   6.99   \n",
       "3  ...                   0.33                 -31.04                   6.17   \n",
       "4  ...                   9.83                 -31.80                   7.47   \n",
       "\n",
       "   wind-vwnd-925-2010-14  wind-vwnd-925-2010-15  wind-vwnd-925-2010-16  \\\n",
       "0                   9.56                  -2.03                  48.13   \n",
       "1                  21.17                   4.44                  48.60   \n",
       "2                  32.16                   5.01                  48.53   \n",
       "3                  39.66                  -1.41                  50.59   \n",
       "4                  38.62                  -5.21                  54.73   \n",
       "\n",
       "   wind-vwnd-925-2010-17  wind-vwnd-925-2010-18  wind-vwnd-925-2010-19  \\\n",
       "0                  28.09                 -13.50                  11.90   \n",
       "1                  27.41                 -23.77                  15.44   \n",
       "2                  19.21                 -33.16                  15.11   \n",
       "3                   8.29                 -37.22                  18.24   \n",
       "4                  -2.58                 -42.30                  21.91   \n",
       "\n",
       "   wind-vwnd-925-2010-20  \n",
       "0                   4.58  \n",
       "1                   3.42  \n",
       "2                   4.82  \n",
       "3                   9.74  \n",
       "4                  10.95  \n",
       "\n",
       "[5 rows x 246 columns]"
      ]
     },
     "execution_count": 8,
     "metadata": {},
     "output_type": "execute_result"
    }
   ],
   "source": [
    "tr.head()"
   ]
  },
  {
   "cell_type": "code",
   "execution_count": null,
   "metadata": {},
   "outputs": [
    {
     "name": "stdout",
     "output_type": "stream",
     "text": [
      "<class 'pandas.core.frame.DataFrame'>\n",
      "RangeIndex: 375734 entries, 0 to 375733\n",
      "Columns: 246 entries, index to wind-vwnd-925-2010-20\n",
      "dtypes: datetime64[ns](1), float64(240), int64(4), object(1)\n",
      "memory usage: 705.2+ MB\n"
     ]
    }
   ],
   "source": [
    "tr.info()"
   ]
  },
  {
   "cell_type": "code",
   "execution_count": null,
   "metadata": {},
   "outputs": [
    {
     "name": "stdout",
     "output_type": "stream",
     "text": [
      "<class 'pandas.core.frame.DataFrame'>\n",
      "RangeIndex: 375734 entries, 0 to 375733\n",
      "Columns: 246 entries, index to wind-vwnd-925-2010-20\n",
      "dtypes: datetime64[ns](1), float64(240), int64(4), object(1)\n",
      "memory usage: 705.2+ MB\n"
     ]
    }
   ],
   "source": [
    "ts.info()"
   ]
  },
  {
   "cell_type": "code",
   "execution_count": null,
   "metadata": {},
   "outputs": [
    {
     "data": {
      "text/plain": [
       "index                                 0\n",
       "lat                                   0\n",
       "lon                                   0\n",
       "startdate                             0\n",
       "contest-pevpr-sfc-gauss-14d__pevpr    0\n",
       "                                     ..\n",
       "wind-vwnd-925-2010-16                 0\n",
       "wind-vwnd-925-2010-17                 0\n",
       "wind-vwnd-925-2010-18                 0\n",
       "wind-vwnd-925-2010-19                 0\n",
       "wind-vwnd-925-2010-20                 0\n",
       "Length: 246, dtype: int64"
      ]
     },
     "execution_count": 7,
     "metadata": {},
     "output_type": "execute_result"
    }
   ],
   "source": [
    "ts.isna().sum()"
   ]
  }
 ],
 "metadata": {
  "kernelspec": {
   "display_name": "Python 3",
   "language": "python",
   "name": "python3"
  },
  "language_info": {
   "codemirror_mode": {
    "name": "ipython",
    "version": 3
   },
   "file_extension": ".py",
   "mimetype": "text/x-python",
   "name": "python",
   "nbconvert_exporter": "python",
   "pygments_lexer": "ipython3",
   "version": "3.9.7"
  },
  "orig_nbformat": 4,
  "vscode": {
   "interpreter": {
    "hash": "c26215744edbe0ff4a3728d1e51b862877463588e14798b78dd64088eea72bc9"
   }
  }
 },
 "nbformat": 4,
 "nbformat_minor": 2
}
